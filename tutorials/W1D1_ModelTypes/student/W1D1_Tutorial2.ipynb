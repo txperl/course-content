{
 "cells": [
  {
   "cell_type": "markdown",
   "metadata": {
    "colab_type": "text",
    "id": "view-in-github"
   },
   "source": [
    "<a href=\"https://colab.research.google.com/github/NeuromatchAcademy/course-content/blob/master/tutorials/W1D1_ModelTypes/student/W1D1_Tutorial2.ipynb\" target=\"_parent\"><img src=\"https://colab.research.google.com/assets/colab-badge.svg\" alt=\"Open In Colab\"/></a>"
   ]
  },
  {
   "cell_type": "markdown",
   "metadata": {
    "colab_type": "text",
    "id": "HwYPw4CvrYCV"
   },
   "source": [
    "#  Neuromatch Academy: Week 1, Day 1, Tutorial 2\n",
    "# Model Types: \"How\" models\n",
    "__Content creators:__ Matt Laporte, Byron Galbraith, Konrad Kording\n",
    "\n",
    "__Content reviewers:__ Dalin Guo, Aishwarya Balwani, Madineh Sarvestani, Maryam Vaziri-Pashkam, Michael Waskom"
   ]
  },
  {
   "cell_type": "markdown",
   "metadata": {
    "colab_type": "text",
    "id": "lQ7RhNSCd91Y"
   },
   "source": [
    "___\n",
    "# Tutorial Objectives\n",
    "This is tutorial 2 of a 3-part series on different flavors of models used to understand neural data. In this tutorial we will explore models that can potentially explain *how* the spiking data we have observed is produced\n",
    "\n",
    "To understand the mechanisms that give rise to the neural data we save in Tutorial 1,  we will build simple neuronal models and compare their spiking response to real data. We will:\n",
    "- Write code to simulate a  simple \"leaky integrate-and-fire\" neuron model \n",
    "- Make the model more complicated — but also more realistic — by adding more physiologically-inspired details"
   ]
  },
  {
   "cell_type": "code",
   "execution_count": 1,
   "metadata": {
    "cellView": "form",
    "colab": {
     "base_uri": "https://localhost:8080/",
     "height": 520
    },
    "colab_type": "code",
    "id": "nfdfxF_ee8sZ",
    "outputId": "79eb15c7-6dce-4d70-a971-398484cd91ae"
   },
   "outputs": [
    {
     "name": "stdout",
     "output_type": "stream",
     "text": [
      "Video available at https://www.bilibili.com/video/BV1yV41167Di\n"
     ]
    },
    {
     "data": {
      "text/html": [
       "\n",
       "        <iframe\n",
       "            width=\"854\"\n",
       "            height=\"480\"\n",
       "            src=\"https://player.bilibili.com/player.html?bvid=BV1yV41167Di&page=1?fs=1\"\n",
       "            frameborder=\"0\"\n",
       "            allowfullscreen\n",
       "        ></iframe>\n",
       "        "
      ],
      "text/plain": [
       "<__main__.BiliVideo at 0x7f884858e7d0>"
      ]
     },
     "execution_count": 1,
     "metadata": {},
     "output_type": "execute_result"
    }
   ],
   "source": [
    "#@title Video 1: \"How\" models\n",
    "from IPython.display import IFrame\n",
    "class BiliVideo(IFrame):\n",
    "    def __init__(self, id, page=1, width=400, height=300, **kwargs):\n",
    "        self.id=id\n",
    "        src = \"https://player.bilibili.com/player.html?bvid={0}&page={1}\".format(id, page)\n",
    "        super(BiliVideo, self).__init__(src, width, height, **kwargs)\n",
    "\n",
    "video = BiliVideo(id='BV1yV41167Di', width=854, height=480, fs=1)\n",
    "print(\"Video available at https://www.bilibili.com/video/{0}\".format(video.id))\n",
    "video"
   ]
  },
  {
   "cell_type": "markdown",
   "metadata": {
    "colab_type": "text",
    "id": "yQN8ug6asey4"
   },
   "source": [
    "# Setup"
   ]
  },
  {
   "cell_type": "code",
   "execution_count": 2,
   "metadata": {
    "cellView": "both",
    "colab": {},
    "colab_type": "code",
    "id": "w6RPNLB6rYCW"
   },
   "outputs": [],
   "source": [
    "import numpy as np\n",
    "import matplotlib.pyplot as plt\n",
    "from scipy import stats"
   ]
  },
  {
   "cell_type": "code",
   "execution_count": 3,
   "metadata": {
    "cellView": "form",
    "colab": {},
    "colab_type": "code",
    "id": "n8R_tHD5__vM"
   },
   "outputs": [],
   "source": [
    "#@title Figure Settings\n",
    "import ipywidgets as widgets #interactive display\n",
    "\n",
    "%matplotlib inline\n",
    "%config InlineBackend.figure_format = 'retina'\n",
    "plt.style.use(\"https://raw.githubusercontent.com/NeuromatchAcademy/course-content/master/nma.mplstyle\")\n",
    "\n"
   ]
  },
  {
   "cell_type": "code",
   "execution_count": 4,
   "metadata": {
    "cellView": "form",
    "colab": {},
    "colab_type": "code",
    "id": "CK1bXaOgrYCZ"
   },
   "outputs": [],
   "source": [
    "#@title Helper Functions\n",
    "def histogram(counts, bins, vlines=(), ax=None, ax_args=None, **kwargs):\n",
    "  \"\"\"Plot a step histogram given counts over bins.\"\"\"\n",
    "  if ax is None:\n",
    "    _, ax = plt.subplots()\n",
    "    \n",
    "  # duplicate the first element of `counts` to match bin edges\n",
    "  counts = np.insert(counts, 0, counts[0])\n",
    "\n",
    "  ax.fill_between(bins, counts, step=\"pre\", alpha=0.4, **kwargs)  # area shading\n",
    "  ax.plot(bins, counts, drawstyle=\"steps\", **kwargs)  # lines\n",
    "\n",
    "  for x in vlines:\n",
    "    ax.axvline(x, color='r', linestyle='dotted')  # vertical line\n",
    "\n",
    "  if ax_args is None:\n",
    "    ax_args = {}\n",
    "\n",
    "  # heuristically set max y to leave a bit of room\n",
    "  ymin, ymax = ax_args.get('ylim', [None, None])\n",
    "  if ymax is None: \n",
    "    ymax = np.max(counts)\n",
    "    if ax_args.get('yscale', 'linear') == 'log':\n",
    "      ymax *= 1.5\n",
    "    else:\n",
    "      ymax *= 1.1\n",
    "      if ymin is None:\n",
    "        ymin = 0\n",
    "\n",
    "  if ymax == ymin:\n",
    "    ymax = None\n",
    "  \n",
    "  ax_args['ylim'] = [ymin, ymax]\n",
    "  \n",
    "  ax.set(**ax_args)\n",
    "  ax.autoscale(enable=False, axis='x', tight=True)\n",
    "\n",
    "\n",
    "def plot_neuron_stats(v, spike_times):\n",
    "  fig, (ax1, ax2) = plt.subplots(ncols=2, figsize=(12, 5))\n",
    "  \n",
    "  # membrane voltage trace  \n",
    "  ax1.plot(v[0:100])\n",
    "  ax1.set(xlabel='Time', ylabel='Voltage')\n",
    "  # plot spike events\n",
    "  for x in spike_times:\n",
    "    if x >= 100:\n",
    "      break\n",
    "    ax1.axvline(x, color='red')\n",
    "\n",
    "  # ISI distribution \n",
    "  isi = np.diff(spike_times)\n",
    "  n_bins = np.arange(isi.min(), isi.max() + 2) - .5\n",
    "  counts, bins = np.histogram(isi, n_bins)\n",
    "  vlines = []\n",
    "  if len(isi) > 0:\n",
    "    vlines = [np.mean(isi)]    \n",
    "  xmax = max(20, int(bins[-1])+5)\n",
    "  histogram(counts, bins, vlines=vlines, ax=ax2, ax_args={\n",
    "    'xlabel': 'Inter-spike interval',\n",
    "    'ylabel': 'Number of intervals',\n",
    "    'xlim': [0, xmax]\n",
    "  }) \n",
    "  plt.show()"
   ]
  },
  {
   "cell_type": "markdown",
   "metadata": {
    "colab_type": "text",
    "id": "kOxLk8AvrYCe"
   },
   "source": [
    "# Section 1: The Linear Integrate-and-Fire Neuron\n",
    "\n",
    "How does a neuron spike? \n",
    "\n",
    "A neuron charges and discharges an electric field across its cell membrane. The state of this electric field can be described by the _membrane potential_. The membrane potential rises due to excitation of the neuron, and when it reaches a threshold a spike occurs. The potential resets, and must rise to a threshold again before the next spike occurs.\n",
    "\n",
    "One of the simplest models of spiking neuron behavior is the linear integrate-and-fire model neuron. In this model, the neuron increases its membrane potential $V_m$ over time in response to excitatory input currents $I$ scaled by some factor $\\alpha$:\n",
    "\n",
    "\\begin{align}\n",
    "  dV_m = {\\alpha}I\n",
    "\\end{align}\n",
    "\n",
    "Once $V_m$ reaches a threshold value a spike is produced, $V_m$ is reset to a starting value, and the process continues.\n",
    "\n",
    "Here, we will take the starting and threshold potentials as $0$ and $1$, respectively. So, for example, if $\\alpha I=0.1$ is constant---that is, the input current is constant---then $dV_m=0.1$, and at each timestep the membrane potential $V_m$ increases by $0.1$ until after $(1-0)/0.1 = 10$ timesteps it reaches the threshold and resets to $V_m=0$, and so on.\n",
    "\n",
    "Note that we define the membrane potential $V_m$ as a scalar: a single real (or floating point) number. However, a biological neuron's membrane potential will not be exactly constant at all points on its cell membrane at a given time. We could capture this variation with a more complex model (e.g. with more numbers). Do we need to? \n",
    "\n",
    "The proposed model is a 1D simplification. There are many details we could add to it, to preserve different parts of the complex structure and dynamics of a real neuron. If we were interested in small or local changes in the membrane potential, our 1D simplification could be a problem. However, we'll assume an idealized \"point\" neuron model for our current purpose.\n",
    "\n",
    "#### Spiking Inputs\n",
    "\n",
    "Given our simplified model for the neuron dynamics, we still need to consider what form the input $I$ will take. How should we specify the firing behavior of the presynaptic neuron(s) providing the inputs to our model neuron? \n",
    "\n",
    "Unlike in the simple example above, where $\\alpha I=0.1$, the input current is generally not constant. Physical inputs tend to vary with time. We can describe this variation with a distribution.\n",
    "\n",
    "We'll assume the input current $I$ over a timestep is due to equal contributions from a non-negative ($\\ge 0$) integer number of input spikes arriving in that timestep. Our model neuron might integrate currents from 3 input spikes in one timestep, and 7 spikes in the next timestep. We should see similar behavior when sampling from our distribution.\n",
    "\n",
    "Given no other information about the input neurons, we will also assume that the distribution has a mean (i.e. mean rate, or number of spikes received per timestep), and that the spiking events of the input neuron(s) are independent in time. Are these reasonable assumptions in the context of real neurons?\n",
    "\n",
    "A suitable distribution given these assumptions is the Poisson distribution, which we'll use to model $I$:\n",
    "\n",
    "\\begin{align}\n",
    "  I \\sim \\mathrm{Poisson}(\\lambda)\n",
    "\\end{align}\n",
    "\n",
    "where $\\lambda$ is the mean of the distribution: the average rate of spikes received per timestep."
   ]
  },
  {
   "cell_type": "markdown",
   "metadata": {
    "colab_type": "text",
    "id": "Ls8CsM2Pf7LQ"
   },
   "source": [
    "### Exercise 1: Compute $dV_m$\n",
    "\n",
    "For your first exercise, you will write the code to compute the change in voltage $dV_m$ (per timestep) of the linear integrate-and-fire model neuron. The rest of the code to handle numerical integration is provided for you, so you just need to fill in a definition for `dv` in the `lif_neuron` function below. The value of $\\lambda$ for the Poisson random variable is given by the function argument `rate`.\n",
    "\n",
    "\n",
    "\n",
    "The [`scipy.stats`](https://docs.scipy.org/doc/scipy/reference/stats.html) package is a great resource for working with and sampling from various probability distributions. We will use the `scipy.stats.poisson` class and its method `rvs` to produce Poisson-distributed random samples. In this tutorial, we have imported this package with the alias `stats`, so you should refer to it in your code as `stats.poisson`."
   ]
  },
  {
   "cell_type": "code",
   "execution_count": 5,
   "metadata": {
    "colab": {},
    "colab_type": "code",
    "id": "HQU61YUDrYCe"
   },
   "outputs": [],
   "source": [
    "def lif_neuron(n_steps=1000, alpha=0.01, rate=10):\n",
    "  \"\"\" Simulate a linear integrate-and-fire neuron.\n",
    "\n",
    "  Args:\n",
    "    n_steps (int): The number of time steps to simulate the neuron's activity.\n",
    "    alpha (float): The input scaling factor\n",
    "    rate (int): The mean rate of incoming spikes\n",
    "\n",
    "  \"\"\"\n",
    "  # precompute Poisson samples for speed\n",
    "  exc = stats.poisson(rate).rvs(n_steps)\n",
    "\n",
    "  v = np.zeros(n_steps)\n",
    "  spike_times = []\n",
    "\n",
    "  ################################################################################\n",
    "  # Students: compute dv, then comment out or remove the next line\n",
    "  raise NotImplementedError(\"Excercise: compute the change in membrane potential\")\n",
    "  ################################################################################\n",
    "  \n",
    "  for i in range(1, n_steps):\n",
    "\n",
    "    dv = ...\n",
    "\n",
    "    v[i] = v[i-1] + dv\n",
    "    if v[i] > 1:\n",
    "      spike_times.append(i)\n",
    "      v[i] = 0\n",
    "  \n",
    "  return v, spike_times\n",
    "\n",
    "# Uncomment these lines after completing the lif_neuron function\n",
    "# v, spike_times = lif_neuron()\n",
    "# plot_neuron_stats(v, spike_times)"
   ]
  },
  {
   "cell_type": "markdown",
   "metadata": {
    "cellView": "both",
    "colab": {
     "base_uri": "https://localhost:8080/",
     "height": 361
    },
    "colab_type": "text",
    "id": "u-oCuaFAiRi5",
    "outputId": "5cc286a9-e973-4cf6-edce-c03187846a28"
   },
   "source": [
    "[*Click for solution*](https://github.com/erlichlab/course-content/tree/master//tutorials/W1D1_ModelTypes/solutions/W1D1_Tutorial2_Solution_f8960ca1.py)\n",
    "\n",
    "*Example output:*\n",
    "\n",
    "<img alt='Solution hint' align='left' width=848 height=344 src=https://raw.githubusercontent.com/NeuromatchAcademy/course-content/master/tutorials/W1D1_ModelTypes/static/W1D1_Tutorial2_Solution_f8960ca1_0.png>\n",
    "\n"
   ]
  },
  {
   "cell_type": "markdown",
   "metadata": {
    "colab_type": "text",
    "id": "H-jxjYzaGwoY"
   },
   "source": [
    "## Interactive Demo: Linear-IF neuron\n",
    "Like last time, you can now explore how various parametes of the LIF model influence the ISI distribution."
   ]
  },
  {
   "cell_type": "code",
   "execution_count": 7,
   "metadata": {
    "cellView": "form",
    "colab": {
     "base_uri": "https://localhost:8080/",
     "height": 454,
     "referenced_widgets": [
      "990ada35c5c544948b62d4559e50b070",
      "37a0682e16cb45ac882f4a60aeaed48d",
      "3160ae99681e4302a556d62b17cba314",
      "0d5052b6b9cd4acd93ca0bd495c0a17b",
      "71a2da343c244581b9f385d95c06aa4b",
      "33a742af9fd74f138dbfdf1c6e25674f",
      "fcefc4155fd34eeeaf17eb8f6b850753",
      "0825038cdb644fb0a4a311aaf421bed2",
      "2bda9259d35f46eda729261babe00313",
      "e656fc81d17840719eb50d5618f84265",
      "8b8f376e405944eb97e7c9c66c7a8d87",
      "ab4ddab618b6468bb3f46832e261e0dd",
      "2d098b643c0f40b3a66325291a02f092"
     ]
    },
    "colab_type": "code",
    "id": "RRjD0G3nrYCh",
    "outputId": "b99a9d0b-3a91-4100-cf67-c02d9005f96d"
   },
   "outputs": [
    {
     "data": {
      "image/png": "[encoded data removed]",
      "text/plain": [
       "<Figure size 864x360 with 2 Axes>"
      ]
     },
     "metadata": {
      "image/png": {
       "height": 341,
       "width": 846
      },
      "needs_background": "light"
     },
     "output_type": "display_data"
    }
   ],
   "source": [
    "#@title\n",
    "\n",
    "#@markdown You don't need to worry about how the code works – but you do need to **run the cell** to enable the sliders.\n",
    "\n",
    "def _lif_neuron(n_steps=1000, alpha=0.01, rate=10):\n",
    "  exc = stats.poisson(rate).rvs(n_steps)\n",
    "  v = np.zeros(n_steps)\n",
    "  spike_times = []\n",
    "  for i in range(1, n_steps):\n",
    "    dv = alpha * exc[i]\n",
    "    v[i] = v[i-1] + dv\n",
    "    if v[i] > 1:\n",
    "      spike_times.append(i)\n",
    "      v[i] = 0\n",
    "  return v, spike_times\n",
    "\n",
    "@widgets.interact(\n",
    "  n_steps=widgets.FloatLogSlider(1000.0, min=2, max=4),\n",
    "  alpha=widgets.FloatLogSlider(0.01, min=-2, max=-1),\n",
    "  rate=widgets.IntSlider(10, min=5, max=20)\n",
    ")\n",
    "def plot_lif_neuron(n_steps=1000, alpha=0.01, rate=10):\n",
    "  v, spike_times = _lif_neuron(int(n_steps), alpha, rate)\n",
    "  plot_neuron_stats(v, spike_times)"
   ]
  },
  {
   "cell_type": "code",
   "execution_count": 8,
   "metadata": {
    "cellView": "form",
    "colab": {
     "base_uri": "https://localhost:8080/",
     "height": 520
    },
    "colab_type": "code",
    "id": "20VOmFIEvVDh",
    "outputId": "8714e155-04d1-48ab-840a-a68128226edb"
   },
   "outputs": [
    {
     "name": "stdout",
     "output_type": "stream",
     "text": [
      "Video available at https://www.bilibili.com/video/BV1iZ4y1u7en\n"
     ]
    },
    {
     "data": {
      "text/html": [
       "\n",
       "        <iframe\n",
       "            width=\"854\"\n",
       "            height=\"480\"\n",
       "            src=\"https://player.bilibili.com/player.html?bvid=BV1iZ4y1u7en&page=1?fs=1\"\n",
       "            frameborder=\"0\"\n",
       "            allowfullscreen\n",
       "        ></iframe>\n",
       "        "
      ],
      "text/plain": [
       "<__main__.BiliVideo at 0x7f8828f690d0>"
      ]
     },
     "execution_count": 8,
     "metadata": {},
     "output_type": "execute_result"
    }
   ],
   "source": [
    "#@title Video 2: Linear-IF models\n",
    "from IPython.display import IFrame\n",
    "class BiliVideo(IFrame):\n",
    "    def __init__(self, id, page=1, width=400, height=300, **kwargs):\n",
    "        self.id=id\n",
    "        src = \"https://player.bilibili.com/player.html?bvid={0}&page={1}\".format(id, page)\n",
    "        super(BiliVideo, self).__init__(src, width, height, **kwargs)\n",
    "\n",
    "video = BiliVideo(id='BV1iZ4y1u7en', width=854, height=480, fs=1)\n",
    "print(\"Video available at https://www.bilibili.com/video/{0}\".format(video.id))\n",
    "video"
   ]
  },
  {
   "cell_type": "markdown",
   "metadata": {
    "colab_type": "text",
    "id": "91UgFMVPrYCk"
   },
   "source": [
    "# Section 2: Inhibitory signals\n"
   ]
  },
  {
   "cell_type": "markdown",
   "metadata": {
    "colab_type": "text",
    "id": "yfiajILBw2hZ"
   },
   "source": [
    "\n",
    "Our linear integrate-and-fire neuron from the previous section was indeed able to produce spikes. However, our ISI histogram doesn't look much like empirical ISI histograms seen in Tutorial 1, which had an exponential-like shape. What is our model neuron missing, given that it doesn't behave like a real neuron?\n",
    "\n",
    "In the previous model we only considered excitatory behavior -- the only way the membrane potential could decrease was upon a spike event. We know, however, that there are other factors that can drive $V_m$ down. First is the natural tendency of the neuron to return to some steady state or resting potential. We can update our previous model as follows:\n",
    "\n",
    "\\begin{align}\n",
    "  dV_m = -{\\beta}V_m + {\\alpha}I\n",
    "\\end{align}\n",
    "\n",
    "where $V_m$ is the current membrane potential and $\\beta$ is some leakage factor. This is a basic form of the popular Leaky Integrate-and-Fire model neuron (for a more detailed discussion of the LIF Neuron, see the Appendix).\n",
    "\n",
    "We also know that in addition to excitatory presynaptic neurons, we can have inhibitory presynaptic neurons as well. We can model these inhibitory neurons with another Poisson random variable:\n",
    "\n",
    "\\begin{align}\n",
    "I = I_{exc} - I_{inh} \\\\\n",
    "I_{exc} \\sim \\mathrm{Poisson}(\\lambda_{exc}) \\\\\n",
    "I_{inh} \\sim \\mathrm{Poisson}(\\lambda_{inh})\n",
    "\\end{align}\n",
    "\n",
    "where $\\lambda_{exc}$ and $\\lambda_{inh}$ are the average spike rates (per timestep) of the excitatory and inhibitory presynaptic neurons, respectively."
   ]
  },
  {
   "cell_type": "markdown",
   "metadata": {
    "colab_type": "text",
    "id": "3tErnV24y_Pa"
   },
   "source": [
    "### Exercise 2: Compute $dV_m$ with inhibitory signals\n",
    "\n",
    "For your second exercise, you will again write the code to compute the change in voltage $dV_m$, though now of the LIF model neuron described above. Like last time, the rest of the code needed to handle the neuron dynamics are provided for you, so you just need to fill in a definition for `dv` below.\n"
   ]
  },
  {
   "cell_type": "code",
   "execution_count": 9,
   "metadata": {
    "colab": {},
    "colab_type": "code",
    "id": "RfT7XE_UzUUl"
   },
   "outputs": [],
   "source": [
    "def lif_neuron_inh(n_steps=1000, alpha=0.5, beta=0.1, exc_rate=10, inh_rate=10):\n",
    "  \"\"\" Simulate a simplified leaky integrate-and-fire neuron with both excitatory\n",
    "  and inhibitory inputs.\n",
    "  \n",
    "  Args:\n",
    "    n_steps (int): The number of time steps to simulate the neuron's activity.\n",
    "    alpha (float): The input scaling factor\n",
    "    beta (float): The membrane potential leakage factor\n",
    "    exc_rate (int): The mean rate of the incoming excitatory spikes\n",
    "    inh_rate (int): The mean rate of the incoming inhibitory spikes\n",
    "  \"\"\"\n",
    "\n",
    "  # precompute Poisson samples for speed\n",
    "  exc = stats.poisson(exc_rate).rvs(n_steps)\n",
    "  inh = stats.poisson(inh_rate).rvs(n_steps)\n",
    "\n",
    "  v = np.zeros(n_steps)\n",
    "  spike_times = []\n",
    "\n",
    "  ###############################################################################\n",
    "  # Students: compute dv, then comment out or remove the next line\n",
    "  raise NotImplementedError(\"Excercise: compute the change in membrane potential\")\n",
    "  ################################################################################\n",
    "  \n",
    "  for i in range(1, n_steps):\n",
    "\n",
    "    dv = ...\n",
    "\n",
    "    v[i] = v[i-1] + dv\n",
    "    if v[i] > 1:\n",
    "      spike_times.append(i)\n",
    "      v[i] = 0\n",
    "\n",
    "  return v, spike_times\n",
    "\n",
    "# Uncomment these lines do make the plot once you've completed the function\n",
    "#v, spike_times = lif_neuron_inh()\n",
    "#plot_neuron_stats(v, spike_times)"
   ]
  },
  {
   "cell_type": "markdown",
   "metadata": {
    "cellView": "both",
    "colab": {
     "base_uri": "https://localhost:8080/",
     "height": 361
    },
    "colab_type": "text",
    "id": "opfSK1CrrYCk",
    "outputId": "d98e5fcf-3da1-48ba-d1e5-50ee941a7307"
   },
   "source": [
    "[*Click for solution*](https://github.com/erlichlab/course-content/tree/master//tutorials/W1D1_ModelTypes/solutions/W1D1_Tutorial2_Solution_4d9a2677.py)\n",
    "\n",
    "*Example output:*\n",
    "\n",
    "<img alt='Solution hint' align='left' width=848 height=344 src=https://raw.githubusercontent.com/NeuromatchAcademy/course-content/master/tutorials/W1D1_ModelTypes/static/W1D1_Tutorial2_Solution_4d9a2677_0.png>\n",
    "\n"
   ]
  },
  {
   "cell_type": "markdown",
   "metadata": {
    "colab_type": "text",
    "id": "K7SSS1mlYg1j"
   },
   "source": [
    "## Interactive Demo: LIF + inhibition neuron"
   ]
  },
  {
   "cell_type": "code",
   "execution_count": 11,
   "metadata": {
    "cellView": "form",
    "colab": {
     "base_uri": "https://localhost:8080/",
     "height": 518,
     "referenced_widgets": [
      "ab70a1af29404964a22fb8bc1d39e1b6",
      "7988350c463245208917af9dc10c8c4a",
      "3a20f6e16bc44f8aa2e025ec861168c0",
      "b4787789c5e44652835cb95e4238fead",
      "be3a8dff26704089993fe3394b9b37f2",
      "fa1025867d5d4a79aeca729d033cebb3",
      "834f12759d9d4bc380f916de3221fe46",
      "d17fa430a98f405f9b48993dcd6ebcb3",
      "e447592686e249c9a1b36119291ac812",
      "c3130166bb7c4ca99d7cd931242b5a18",
      "a0f300aaf4ae41c0a01847ae611d147e",
      "25e89a44ce264229a57d9f30a4bc4b76",
      "6b3d6737fc8a4c4d8477284101a68a61",
      "528ef35adc0747ce914b2824ca60b020",
      "0a77dd3f091d4807966c8bb6bddeb621",
      "f51922ead2564bb798cff0d94bb1ed4b",
      "aea9a2d13cd444e2b4ad54192d392aab",
      "82b2c1d3ae36465c87ccc003bedbd1c4",
      "297e2c6ab90f4573bb553a8b3e0c6a7a"
     ]
    },
    "colab_type": "code",
    "id": "Eh3wR_nArYCn",
    "outputId": "673a1dab-79ee-423b-863a-22d56ad543c2"
   },
   "outputs": [
    {
     "data": {
      "image/png": "[encoded data removed]",
      "text/plain": [
       "<Figure size 864x360 with 2 Axes>"
      ]
     },
     "metadata": {
      "image/png": {
       "height": 341,
       "width": 845
      },
      "needs_background": "light"
     },
     "output_type": "display_data"
    }
   ],
   "source": [
    "#@title\n",
    "#@markdown **Run the cell** to enable the sliders.\n",
    "def _lif_neuron_inh(n_steps=1000, alpha=0.5, beta=0.1, exc_rate=10, inh_rate=10):\n",
    "  \"\"\" Simulate a simplified leaky integrate-and-fire neuron with both excitatory\n",
    "  and inhibitory inputs.\n",
    "  \n",
    "  Args:\n",
    "    n_steps (int): The number of time steps to simulate the neuron's activity.\n",
    "    alpha (float): The input scaling factor\n",
    "    beta (float): The membrane potential leakage factor\n",
    "    exc_rate (int): The mean rate of the incoming excitatory spikes\n",
    "    inh_rate (int): The mean rate of the incoming inhibitory spikes\n",
    "  \"\"\"\n",
    "  # precompute Poisson samples for speed\n",
    "  exc = stats.poisson(exc_rate).rvs(n_steps)\n",
    "  inh = stats.poisson(inh_rate).rvs(n_steps)\n",
    "\n",
    "  v = np.zeros(n_steps)\n",
    "  spike_times = []\n",
    "  for i in range(1, n_steps):\n",
    "    dv = -beta * v[i-1] + alpha * (exc[i] - inh[i])\n",
    "    v[i] = v[i-1] + dv\n",
    "    if v[i] > 1:\n",
    "      spike_times.append(i)\n",
    "      v[i] = 0\n",
    "\n",
    "  return v, spike_times\n",
    "\n",
    "@widgets.interact(n_steps=widgets.FloatLogSlider(1000.0, min=2.5, max=4),\n",
    "                  alpha=widgets.FloatLogSlider(0.5, min=-1, max=1),\n",
    "                  beta=widgets.FloatLogSlider(0.1, min=-1, max=0),\n",
    "                  exc_rate=widgets.IntSlider(12, min=10, max=20),\n",
    "                  inh_rate=widgets.IntSlider(12, min=10, max=20))\n",
    "def plot_lif_neuron(n_steps=1000, alpha=0.5, beta=0.1, exc_rate=10, inh_rate=10):\n",
    "  v, spike_times = _lif_neuron_inh(int(n_steps), alpha, beta, exc_rate, inh_rate)\n",
    "  plot_neuron_stats(v, spike_times)"
   ]
  },
  {
   "cell_type": "code",
   "execution_count": 12,
   "metadata": {
    "cellView": "form",
    "colab": {
     "base_uri": "https://localhost:8080/",
     "height": 520
    },
    "colab_type": "code",
    "id": "or1Tt4TSfQwp",
    "outputId": "c61563f8-e394-49ae-eecb-99589663a7b8"
   },
   "outputs": [
    {
     "name": "stdout",
     "output_type": "stream",
     "text": [
      "Video available at https://www.bilibili.com/video/BV1nV41167mS\n"
     ]
    },
    {
     "data": {
      "text/html": [
       "\n",
       "        <iframe\n",
       "            width=\"854\"\n",
       "            height=\"480\"\n",
       "            src=\"https://player.bilibili.com/player.html?bvid=BV1nV41167mS&page=1?fs=1\"\n",
       "            frameborder=\"0\"\n",
       "            allowfullscreen\n",
       "        ></iframe>\n",
       "        "
      ],
      "text/plain": [
       "<__main__.BiliVideo at 0x7f8828a73890>"
      ]
     },
     "execution_count": 12,
     "metadata": {},
     "output_type": "execute_result"
    }
   ],
   "source": [
    "#@title Video 3: LIF + inhibition\n",
    "from IPython.display import IFrame\n",
    "class BiliVideo(IFrame):\n",
    "    def __init__(self, id, page=1, width=400, height=300, **kwargs):\n",
    "        self.id=id\n",
    "        src = \"https://player.bilibili.com/player.html?bvid={0}&page={1}\".format(id, page)\n",
    "        super(BiliVideo, self).__init__(src, width, height, **kwargs)\n",
    "\n",
    "video = BiliVideo(id='BV1nV41167mS', width=854, height=480, fs=1)\n",
    "print(\"Video available at https://www.bilibili.com/video/{0}\".format(video.id))\n",
    "video"
   ]
  },
  {
   "cell_type": "markdown",
   "metadata": {
    "colab_type": "text",
    "id": "CUMDCU9waBz_"
   },
   "source": [
    "#Summary\n",
    "\n",
    "In this tutorial we gained some intuition for the mechanisms that produce the observed behavior in our real neural data. First, we built a simple neuron model with excitatory input and saw that it's behavior, measured using the ISI distribution, did not match our real neurons. We then improved our model by adding leakiness and inhibitory input. The behavior of this balanced model was much closer to the real neural data."
   ]
  },
  {
   "cell_type": "markdown",
   "metadata": {
    "colab_type": "text",
    "id": "pKCzc7Fjz8zK"
   },
   "source": [
    "# Bonus"
   ]
  },
  {
   "cell_type": "markdown",
   "metadata": {
    "colab_type": "text",
    "id": "xn34Ieffz_ZO"
   },
   "source": [
    "### Why do neurons spike?\n",
    "\n",
    "A neuron stores energy in an electric field across its cell membrane, by controlling the distribution of charges (ions) on either side of the membrane. This energy is rapidly discharged to generate a spike when the field potential (or membrane potential) crosses a threshold. The membrane potential may be driven toward or away from this threshold, depending on inputs from other neurons: excitatory or inhibitory, respectively. The membrane potential tends to revert to a resting potential, for example due to the leakage of ions across the membrane, so that reaching the spiking threshold depends not only on the amount of input ever received following the last spike, but also the timing of the inputs.\n",
    "\n",
    "The storage of energy by maintaining a field potential across an insulating membrane can be modeled by a capacitor. The leakage of charge across the membrane can be modeled by a resistor. This is the basis for the leaky integrate-and-fire neuron model."
   ]
  },
  {
   "cell_type": "markdown",
   "metadata": {
    "colab_type": "text",
    "id": "pwZOhsV60WPM"
   },
   "source": [
    "### The LIF Model Neuron\n",
    "\n",
    "The full equation for the LIF neuron is\n",
    "\n",
    "\\begin{align}\n",
    "C_{m}\\frac{dV_m}{dt} = -(V_m - V_{rest})/R_{m} + I\n",
    "\\end{align}\n",
    "\n",
    "where $C_m$ is the membrane capacitance, $R_M$ is the membrane resistance, $V_{rest}$ is the resting potential, and $I$ is some input current (from other neurons, an electrode, ...).\n",
    "\n",
    "In our above examples we set many of these parameters to convenient values ($C_m = R_m = dt = 1$, $V_{rest} = 0$) to focus more on the general behavior of the model. However, these too can be manipulated to achieve different dynamics, or to ensure the dimensions of the problem are preserved between simulation units and experimental units (e.g. with $V_m$ given in millivolts, $R_m$ in megaohms, $t$ in milliseconds)."
   ]
  }
 ],
 "metadata": {
  "colab": {
   "collapsed_sections": [],
   "include_colab_link": true,
   "name": "NeuromatchAcademy_W1D1_Tutorial2",
   "provenance": [],
   "toc_visible": true
  },
  "kernelspec": {
   "display_name": "Python 3",
   "language": "python",
   "name": "python3"
  },
  "language_info": {
   "codemirror_mode": {
    "name": "ipython",
    "version": 3
   },
   "file_extension": ".py",
   "mimetype": "text/x-python",
   "name": "python",
   "nbconvert_exporter": "python",
   "pygments_lexer": "ipython3",
   "version": "3.7.6"
  },
  "widgets": {
   "application/vnd.jupyter.widget-state+json": {
    "state": {
     "0480924a55b147f0bd6d19794a0e5378": {
      "model_module": "@jupyter-widgets/base",
      "model_module_version": "1.2.0",
      "model_name": "LayoutModel",
      "state": {
       "_model_module": "@jupyter-widgets/base",
       "_model_module_version": "1.2.0",
       "_model_name": "LayoutModel",
       "_view_count": null,
       "_view_module": "@jupyter-widgets/base",
       "_view_module_version": "1.2.0",
       "_view_name": "LayoutView",
       "align_content": null,
       "align_items": null,
       "align_self": null,
       "border": null,
       "bottom": null,
       "display": null,
       "flex": null,
       "flex_flow": null,
       "grid_area": null,
       "grid_auto_columns": null,
       "grid_auto_flow": null,
       "grid_auto_rows": null,
       "grid_column": null,
       "grid_gap": null,
       "grid_row": null,
       "grid_template_areas": null,
       "grid_template_columns": null,
       "grid_template_rows": null,
       "height": null,
       "justify_content": null,
       "justify_items": null,
       "left": null,
       "margin": null,
       "max_height": null,
       "max_width": null,
       "min_height": null,
       "min_width": null,
       "object_fit": null,
       "object_position": null,
       "order": null,
       "overflow": null,
       "overflow_x": null,
       "overflow_y": null,
       "padding": null,
       "right": null,
       "top": null,
       "visibility": null,
       "width": null
      }
     },
     "07267792463642f69dbece58084d678e": {
      "model_module": "@jupyter-widgets/base",
      "model_module_version": "1.2.0",
      "model_name": "LayoutModel",
      "state": {
       "_model_module": "@jupyter-widgets/base",
       "_model_module_version": "1.2.0",
       "_model_name": "LayoutModel",
       "_view_count": null,
       "_view_module": "@jupyter-widgets/base",
       "_view_module_version": "1.2.0",
       "_view_name": "LayoutView",
       "align_content": null,
       "align_items": null,
       "align_self": null,
       "border": null,
       "bottom": null,
       "display": null,
       "flex": null,
       "flex_flow": null,
       "grid_area": null,
       "grid_auto_columns": null,
       "grid_auto_flow": null,
       "grid_auto_rows": null,
       "grid_column": null,
       "grid_gap": null,
       "grid_row": null,
       "grid_template_areas": null,
       "grid_template_columns": null,
       "grid_template_rows": null,
       "height": null,
       "justify_content": null,
       "justify_items": null,
       "left": null,
       "margin": null,
       "max_height": null,
       "max_width": null,
       "min_height": null,
       "min_width": null,
       "object_fit": null,
       "object_position": null,
       "order": null,
       "overflow": null,
       "overflow_x": null,
       "overflow_y": null,
       "padding": null,
       "right": null,
       "top": null,
       "visibility": null,
       "width": null
      }
     },
     "0c05f37097334dea9c5758b939d201fd": {
      "model_module": "@jupyter-widgets/controls",
      "model_module_version": "1.5.0",
      "model_name": "VBoxModel",
      "state": {
       "_dom_classes": [
        "widget-interact"
       ],
       "_model_module": "@jupyter-widgets/controls",
       "_model_module_version": "1.5.0",
       "_model_name": "VBoxModel",
       "_view_count": null,
       "_view_module": "@jupyter-widgets/controls",
       "_view_module_version": "1.5.0",
       "_view_name": "VBoxView",
       "box_style": "",
       "children": [
        "IPY_MODEL_f54bdc252f8d45369ec655763cb8139a",
        "IPY_MODEL_15d2362e28d042a0a38cf324221db692",
        "IPY_MODEL_41abfe564c0140c1bbc04214eb9fc866",
        "IPY_MODEL_7964e55f48b547db897c288171e9fa29",
        "IPY_MODEL_21dc571c1d9945939f7ab2fb40615cf4",
        "IPY_MODEL_b40cc1ee73ec423abf082c959f458e60"
       ],
       "layout": "IPY_MODEL_4d46a98deae343738bd93768d479473b"
      }
     },
     "15d2362e28d042a0a38cf324221db692": {
      "model_module": "@jupyter-widgets/controls",
      "model_module_version": "1.5.0",
      "model_name": "FloatLogSliderModel",
      "state": {
       "_dom_classes": [],
       "_model_module": "@jupyter-widgets/controls",
       "_model_module_version": "1.5.0",
       "_model_name": "FloatLogSliderModel",
       "_view_count": null,
       "_view_module": "@jupyter-widgets/controls",
       "_view_module_version": "1.5.0",
       "_view_name": "FloatLogSliderView",
       "base": 10.0,
       "continuous_update": true,
       "description": "alpha",
       "description_tooltip": null,
       "disabled": false,
       "layout": "IPY_MODEL_07267792463642f69dbece58084d678e",
       "max": 1.0,
       "min": -1.0,
       "orientation": "horizontal",
       "readout": true,
       "readout_format": ".3g",
       "step": 0.1,
       "style": "IPY_MODEL_efc884579e24412ea6d69f1d932c210c",
       "value": 0.5
      }
     },
     "2088ad4c9e564cd19f438bd2e6b952e2": {
      "model_module": "@jupyter-widgets/base",
      "model_module_version": "1.2.0",
      "model_name": "LayoutModel",
      "state": {
       "_model_module": "@jupyter-widgets/base",
       "_model_module_version": "1.2.0",
       "_model_name": "LayoutModel",
       "_view_count": null,
       "_view_module": "@jupyter-widgets/base",
       "_view_module_version": "1.2.0",
       "_view_name": "LayoutView",
       "align_content": null,
       "align_items": null,
       "align_self": null,
       "border": null,
       "bottom": null,
       "display": null,
       "flex": null,
       "flex_flow": null,
       "grid_area": null,
       "grid_auto_columns": null,
       "grid_auto_flow": null,
       "grid_auto_rows": null,
       "grid_column": null,
       "grid_gap": null,
       "grid_row": null,
       "grid_template_areas": null,
       "grid_template_columns": null,
       "grid_template_rows": null,
       "height": null,
       "justify_content": null,
       "justify_items": null,
       "left": null,
       "margin": null,
       "max_height": null,
       "max_width": null,
       "min_height": null,
       "min_width": null,
       "object_fit": null,
       "object_position": null,
       "order": null,
       "overflow": null,
       "overflow_x": null,
       "overflow_y": null,
       "padding": null,
       "right": null,
       "top": null,
       "visibility": null,
       "width": null
      }
     },
     "21dc571c1d9945939f7ab2fb40615cf4": {
      "model_module": "@jupyter-widgets/controls",
      "model_module_version": "1.5.0",
      "model_name": "IntSliderModel",
      "state": {
       "_dom_classes": [],
       "_model_module": "@jupyter-widgets/controls",
       "_model_module_version": "1.5.0",
       "_model_name": "IntSliderModel",
       "_view_count": null,
       "_view_module": "@jupyter-widgets/controls",
       "_view_module_version": "1.5.0",
       "_view_name": "IntSliderView",
       "continuous_update": true,
       "description": "inh_rate",
       "description_tooltip": null,
       "disabled": false,
       "layout": "IPY_MODEL_0480924a55b147f0bd6d19794a0e5378",
       "max": 20,
       "min": 10,
       "orientation": "horizontal",
       "readout": true,
       "readout_format": "d",
       "step": 1,
       "style": "IPY_MODEL_bd7b5612b6394d3595db8c2f469dd06b",
       "value": 12
      }
     },
     "2414e9234b0749cb9fca10395ee8543a": {
      "model_module": "@jupyter-widgets/controls",
      "model_module_version": "1.5.0",
      "model_name": "SliderStyleModel",
      "state": {
       "_model_module": "@jupyter-widgets/controls",
       "_model_module_version": "1.5.0",
       "_model_name": "SliderStyleModel",
       "_view_count": null,
       "_view_module": "@jupyter-widgets/base",
       "_view_module_version": "1.2.0",
       "_view_name": "StyleView",
       "description_width": "",
       "handle_color": null
      }
     },
     "33ceabe51a0a4c08916aeba101443ba0": {
      "model_module": "@jupyter-widgets/controls",
      "model_module_version": "1.5.0",
      "model_name": "SliderStyleModel",
      "state": {
       "_model_module": "@jupyter-widgets/controls",
       "_model_module_version": "1.5.0",
       "_model_name": "SliderStyleModel",
       "_view_count": null,
       "_view_module": "@jupyter-widgets/base",
       "_view_module_version": "1.2.0",
       "_view_name": "StyleView",
       "description_width": "",
       "handle_color": null
      }
     },
     "41abfe564c0140c1bbc04214eb9fc866": {
      "model_module": "@jupyter-widgets/controls",
      "model_module_version": "1.5.0",
      "model_name": "FloatLogSliderModel",
      "state": {
       "_dom_classes": [],
       "_model_module": "@jupyter-widgets/controls",
       "_model_module_version": "1.5.0",
       "_model_name": "FloatLogSliderModel",
       "_view_count": null,
       "_view_module": "@jupyter-widgets/controls",
       "_view_module_version": "1.5.0",
       "_view_name": "FloatLogSliderView",
       "base": 10.0,
       "continuous_update": true,
       "description": "beta",
       "description_tooltip": null,
       "disabled": false,
       "layout": "IPY_MODEL_daee0724ffb8494fa8adea13975dd478",
       "max": 0.0,
       "min": -1.0,
       "orientation": "horizontal",
       "readout": true,
       "readout_format": ".3g",
       "step": 0.1,
       "style": "IPY_MODEL_33ceabe51a0a4c08916aeba101443ba0",
       "value": 0.1
      }
     },
     "4413f597e2b546dcacb0e727edaa87c8": {
      "model_module": "@jupyter-widgets/base",
      "model_module_version": "1.2.0",
      "model_name": "LayoutModel",
      "state": {
       "_model_module": "@jupyter-widgets/base",
       "_model_module_version": "1.2.0",
       "_model_name": "LayoutModel",
       "_view_count": null,
       "_view_module": "@jupyter-widgets/base",
       "_view_module_version": "1.2.0",
       "_view_name": "LayoutView",
       "align_content": null,
       "align_items": null,
       "align_self": null,
       "border": null,
       "bottom": null,
       "display": null,
       "flex": null,
       "flex_flow": null,
       "grid_area": null,
       "grid_auto_columns": null,
       "grid_auto_flow": null,
       "grid_auto_rows": null,
       "grid_column": null,
       "grid_gap": null,
       "grid_row": null,
       "grid_template_areas": null,
       "grid_template_columns": null,
       "grid_template_rows": null,
       "height": null,
       "justify_content": null,
       "justify_items": null,
       "left": null,
       "margin": null,
       "max_height": null,
       "max_width": null,
       "min_height": null,
       "min_width": null,
       "object_fit": null,
       "object_position": null,
       "order": null,
       "overflow": null,
       "overflow_x": null,
       "overflow_y": null,
       "padding": null,
       "right": null,
       "top": null,
       "visibility": null,
       "width": null
      }
     },
     "4d46a98deae343738bd93768d479473b": {
      "model_module": "@jupyter-widgets/base",
      "model_module_version": "1.2.0",
      "model_name": "LayoutModel",
      "state": {
       "_model_module": "@jupyter-widgets/base",
       "_model_module_version": "1.2.0",
       "_model_name": "LayoutModel",
       "_view_count": null,
       "_view_module": "@jupyter-widgets/base",
       "_view_module_version": "1.2.0",
       "_view_name": "LayoutView",
       "align_content": null,
       "align_items": null,
       "align_self": null,
       "border": null,
       "bottom": null,
       "display": null,
       "flex": null,
       "flex_flow": null,
       "grid_area": null,
       "grid_auto_columns": null,
       "grid_auto_flow": null,
       "grid_auto_rows": null,
       "grid_column": null,
       "grid_gap": null,
       "grid_row": null,
       "grid_template_areas": null,
       "grid_template_columns": null,
       "grid_template_rows": null,
       "height": null,
       "justify_content": null,
       "justify_items": null,
       "left": null,
       "margin": null,
       "max_height": null,
       "max_width": null,
       "min_height": null,
       "min_width": null,
       "object_fit": null,
       "object_position": null,
       "order": null,
       "overflow": null,
       "overflow_x": null,
       "overflow_y": null,
       "padding": null,
       "right": null,
       "top": null,
       "visibility": null,
       "width": null
      }
     },
     "5f8a6d4f775d45c5b1ad42f2776220f6": {
      "model_module": "@jupyter-widgets/base",
      "model_module_version": "1.2.0",
      "model_name": "LayoutModel",
      "state": {
       "_model_module": "@jupyter-widgets/base",
       "_model_module_version": "1.2.0",
       "_model_name": "LayoutModel",
       "_view_count": null,
       "_view_module": "@jupyter-widgets/base",
       "_view_module_version": "1.2.0",
       "_view_name": "LayoutView",
       "align_content": null,
       "align_items": null,
       "align_self": null,
       "border": null,
       "bottom": null,
       "display": null,
       "flex": null,
       "flex_flow": null,
       "grid_area": null,
       "grid_auto_columns": null,
       "grid_auto_flow": null,
       "grid_auto_rows": null,
       "grid_column": null,
       "grid_gap": null,
       "grid_row": null,
       "grid_template_areas": null,
       "grid_template_columns": null,
       "grid_template_rows": null,
       "height": null,
       "justify_content": null,
       "justify_items": null,
       "left": null,
       "margin": null,
       "max_height": null,
       "max_width": null,
       "min_height": null,
       "min_width": null,
       "object_fit": null,
       "object_position": null,
       "order": null,
       "overflow": null,
       "overflow_x": null,
       "overflow_y": null,
       "padding": null,
       "right": null,
       "top": null,
       "visibility": null,
       "width": null
      }
     },
     "7964e55f48b547db897c288171e9fa29": {
      "model_module": "@jupyter-widgets/controls",
      "model_module_version": "1.5.0",
      "model_name": "IntSliderModel",
      "state": {
       "_dom_classes": [],
       "_model_module": "@jupyter-widgets/controls",
       "_model_module_version": "1.5.0",
       "_model_name": "IntSliderModel",
       "_view_count": null,
       "_view_module": "@jupyter-widgets/controls",
       "_view_module_version": "1.5.0",
       "_view_name": "IntSliderView",
       "continuous_update": true,
       "description": "exc_rate",
       "description_tooltip": null,
       "disabled": false,
       "layout": "IPY_MODEL_7d80eaa8c4dd405cae1b7e318ea809ea",
       "max": 20,
       "min": 10,
       "orientation": "horizontal",
       "readout": true,
       "readout_format": "d",
       "step": 1,
       "style": "IPY_MODEL_b509d816de13449b87f2cd7e67251d5a",
       "value": 12
      }
     },
     "7d80eaa8c4dd405cae1b7e318ea809ea": {
      "model_module": "@jupyter-widgets/base",
      "model_module_version": "1.2.0",
      "model_name": "LayoutModel",
      "state": {
       "_model_module": "@jupyter-widgets/base",
       "_model_module_version": "1.2.0",
       "_model_name": "LayoutModel",
       "_view_count": null,
       "_view_module": "@jupyter-widgets/base",
       "_view_module_version": "1.2.0",
       "_view_name": "LayoutView",
       "align_content": null,
       "align_items": null,
       "align_self": null,
       "border": null,
       "bottom": null,
       "display": null,
       "flex": null,
       "flex_flow": null,
       "grid_area": null,
       "grid_auto_columns": null,
       "grid_auto_flow": null,
       "grid_auto_rows": null,
       "grid_column": null,
       "grid_gap": null,
       "grid_row": null,
       "grid_template_areas": null,
       "grid_template_columns": null,
       "grid_template_rows": null,
       "height": null,
       "justify_content": null,
       "justify_items": null,
       "left": null,
       "margin": null,
       "max_height": null,
       "max_width": null,
       "min_height": null,
       "min_width": null,
       "object_fit": null,
       "object_position": null,
       "order": null,
       "overflow": null,
       "overflow_x": null,
       "overflow_y": null,
       "padding": null,
       "right": null,
       "top": null,
       "visibility": null,
       "width": null
      }
     },
     "8a2d537709a54942903413e89f60de60": {
      "model_module": "@jupyter-widgets/base",
      "model_module_version": "1.2.0",
      "model_name": "LayoutModel",
      "state": {
       "_model_module": "@jupyter-widgets/base",
       "_model_module_version": "1.2.0",
       "_model_name": "LayoutModel",
       "_view_count": null,
       "_view_module": "@jupyter-widgets/base",
       "_view_module_version": "1.2.0",
       "_view_name": "LayoutView",
       "align_content": null,
       "align_items": null,
       "align_self": null,
       "border": null,
       "bottom": null,
       "display": null,
       "flex": null,
       "flex_flow": null,
       "grid_area": null,
       "grid_auto_columns": null,
       "grid_auto_flow": null,
       "grid_auto_rows": null,
       "grid_column": null,
       "grid_gap": null,
       "grid_row": null,
       "grid_template_areas": null,
       "grid_template_columns": null,
       "grid_template_rows": null,
       "height": null,
       "justify_content": null,
       "justify_items": null,
       "left": null,
       "margin": null,
       "max_height": null,
       "max_width": null,
       "min_height": null,
       "min_width": null,
       "object_fit": null,
       "object_position": null,
       "order": null,
       "overflow": null,
       "overflow_x": null,
       "overflow_y": null,
       "padding": null,
       "right": null,
       "top": null,
       "visibility": null,
       "width": null
      }
     },
     "989c49e225ee48f08a62b6139eb24b6b": {
      "model_module": "@jupyter-widgets/controls",
      "model_module_version": "1.5.0",
      "model_name": "FloatLogSliderModel",
      "state": {
       "_dom_classes": [],
       "_model_module": "@jupyter-widgets/controls",
       "_model_module_version": "1.5.0",
       "_model_name": "FloatLogSliderModel",
       "_view_count": null,
       "_view_module": "@jupyter-widgets/controls",
       "_view_module_version": "1.5.0",
       "_view_name": "FloatLogSliderView",
       "base": 10.0,
       "continuous_update": true,
       "description": "n_steps",
       "description_tooltip": null,
       "disabled": false,
       "layout": "IPY_MODEL_5f8a6d4f775d45c5b1ad42f2776220f6",
       "max": 4.0,
       "min": 2.0,
       "orientation": "horizontal",
       "readout": true,
       "readout_format": ".3g",
       "step": 0.1,
       "style": "IPY_MODEL_b7acb199f73548b6ab715479ee358e40",
       "value": 1000.0
      }
     },
     "9ab1ea72b294448d92820138223510e4": {
      "model_module": "@jupyter-widgets/controls",
      "model_module_version": "1.5.0",
      "model_name": "SliderStyleModel",
      "state": {
       "_model_module": "@jupyter-widgets/controls",
       "_model_module_version": "1.5.0",
       "_model_name": "SliderStyleModel",
       "_view_count": null,
       "_view_module": "@jupyter-widgets/base",
       "_view_module_version": "1.2.0",
       "_view_name": "StyleView",
       "description_width": "",
       "handle_color": null
      }
     },
     "ae7d928ecf76414d9b8f75046d7f4f1d": {
      "model_module": "@jupyter-widgets/output",
      "model_module_version": "1.0.0",
      "model_name": "OutputModel",
      "state": {
       "_dom_classes": [],
       "_model_module": "@jupyter-widgets/output",
       "_model_module_version": "1.0.0",
       "_model_name": "OutputModel",
       "_view_count": null,
       "_view_module": "@jupyter-widgets/output",
       "_view_module_version": "1.0.0",
       "_view_name": "OutputView",
       "layout": "IPY_MODEL_4413f597e2b546dcacb0e727edaa87c8",
       "msg_id": "",
       "outputs": []
      }
     },
     "b40cc1ee73ec423abf082c959f458e60": {
      "model_module": "@jupyter-widgets/output",
      "model_module_version": "1.0.0",
      "model_name": "OutputModel",
      "state": {
       "_dom_classes": [],
       "_model_module": "@jupyter-widgets/output",
       "_model_module_version": "1.0.0",
       "_model_name": "OutputModel",
       "_view_count": null,
       "_view_module": "@jupyter-widgets/output",
       "_view_module_version": "1.0.0",
       "_view_name": "OutputView",
       "layout": "IPY_MODEL_d836883f68644a199957399628b170a0",
       "msg_id": "",
       "outputs": []
      }
     },
     "b509d816de13449b87f2cd7e67251d5a": {
      "model_module": "@jupyter-widgets/controls",
      "model_module_version": "1.5.0",
      "model_name": "SliderStyleModel",
      "state": {
       "_model_module": "@jupyter-widgets/controls",
       "_model_module_version": "1.5.0",
       "_model_name": "SliderStyleModel",
       "_view_count": null,
       "_view_module": "@jupyter-widgets/base",
       "_view_module_version": "1.2.0",
       "_view_name": "StyleView",
       "description_width": "",
       "handle_color": null
      }
     },
     "b7acb199f73548b6ab715479ee358e40": {
      "model_module": "@jupyter-widgets/controls",
      "model_module_version": "1.5.0",
      "model_name": "SliderStyleModel",
      "state": {
       "_model_module": "@jupyter-widgets/controls",
       "_model_module_version": "1.5.0",
       "_model_name": "SliderStyleModel",
       "_view_count": null,
       "_view_module": "@jupyter-widgets/base",
       "_view_module_version": "1.2.0",
       "_view_name": "StyleView",
       "description_width": "",
       "handle_color": null
      }
     },
     "bd7b5612b6394d3595db8c2f469dd06b": {
      "model_module": "@jupyter-widgets/controls",
      "model_module_version": "1.5.0",
      "model_name": "SliderStyleModel",
      "state": {
       "_model_module": "@jupyter-widgets/controls",
       "_model_module_version": "1.5.0",
       "_model_name": "SliderStyleModel",
       "_view_count": null,
       "_view_module": "@jupyter-widgets/base",
       "_view_module_version": "1.2.0",
       "_view_name": "StyleView",
       "description_width": "",
       "handle_color": null
      }
     },
     "bffd86eb05a24cc3b498495b6b044756": {
      "model_module": "@jupyter-widgets/controls",
      "model_module_version": "1.5.0",
      "model_name": "SliderStyleModel",
      "state": {
       "_model_module": "@jupyter-widgets/controls",
       "_model_module_version": "1.5.0",
       "_model_name": "SliderStyleModel",
       "_view_count": null,
       "_view_module": "@jupyter-widgets/base",
       "_view_module_version": "1.2.0",
       "_view_name": "StyleView",
       "description_width": "",
       "handle_color": null
      }
     },
     "d836883f68644a199957399628b170a0": {
      "model_module": "@jupyter-widgets/base",
      "model_module_version": "1.2.0",
      "model_name": "LayoutModel",
      "state": {
       "_model_module": "@jupyter-widgets/base",
       "_model_module_version": "1.2.0",
       "_model_name": "LayoutModel",
       "_view_count": null,
       "_view_module": "@jupyter-widgets/base",
       "_view_module_version": "1.2.0",
       "_view_name": "LayoutView",
       "align_content": null,
       "align_items": null,
       "align_self": null,
       "border": null,
       "bottom": null,
       "display": null,
       "flex": null,
       "flex_flow": null,
       "grid_area": null,
       "grid_auto_columns": null,
       "grid_auto_flow": null,
       "grid_auto_rows": null,
       "grid_column": null,
       "grid_gap": null,
       "grid_row": null,
       "grid_template_areas": null,
       "grid_template_columns": null,
       "grid_template_rows": null,
       "height": null,
       "justify_content": null,
       "justify_items": null,
       "left": null,
       "margin": null,
       "max_height": null,
       "max_width": null,
       "min_height": null,
       "min_width": null,
       "object_fit": null,
       "object_position": null,
       "order": null,
       "overflow": null,
       "overflow_x": null,
       "overflow_y": null,
       "padding": null,
       "right": null,
       "top": null,
       "visibility": null,
       "width": null
      }
     },
     "daee0724ffb8494fa8adea13975dd478": {
      "model_module": "@jupyter-widgets/base",
      "model_module_version": "1.2.0",
      "model_name": "LayoutModel",
      "state": {
       "_model_module": "@jupyter-widgets/base",
       "_model_module_version": "1.2.0",
       "_model_name": "LayoutModel",
       "_view_count": null,
       "_view_module": "@jupyter-widgets/base",
       "_view_module_version": "1.2.0",
       "_view_name": "LayoutView",
       "align_content": null,
       "align_items": null,
       "align_self": null,
       "border": null,
       "bottom": null,
       "display": null,
       "flex": null,
       "flex_flow": null,
       "grid_area": null,
       "grid_auto_columns": null,
       "grid_auto_flow": null,
       "grid_auto_rows": null,
       "grid_column": null,
       "grid_gap": null,
       "grid_row": null,
       "grid_template_areas": null,
       "grid_template_columns": null,
       "grid_template_rows": null,
       "height": null,
       "justify_content": null,
       "justify_items": null,
       "left": null,
       "margin": null,
       "max_height": null,
       "max_width": null,
       "min_height": null,
       "min_width": null,
       "object_fit": null,
       "object_position": null,
       "order": null,
       "overflow": null,
       "overflow_x": null,
       "overflow_y": null,
       "padding": null,
       "right": null,
       "top": null,
       "visibility": null,
       "width": null
      }
     },
     "dd13af2cf6324a048e0ec4a95c5629b5": {
      "model_module": "@jupyter-widgets/controls",
      "model_module_version": "1.5.0",
      "model_name": "VBoxModel",
      "state": {
       "_dom_classes": [
        "widget-interact"
       ],
       "_model_module": "@jupyter-widgets/controls",
       "_model_module_version": "1.5.0",
       "_model_name": "VBoxModel",
       "_view_count": null,
       "_view_module": "@jupyter-widgets/controls",
       "_view_module_version": "1.5.0",
       "_view_name": "VBoxView",
       "box_style": "",
       "children": [
        "IPY_MODEL_989c49e225ee48f08a62b6139eb24b6b",
        "IPY_MODEL_e148bec935c04c33b961443aa321a286",
        "IPY_MODEL_ef01731177174859be083a5a6e341db3",
        "IPY_MODEL_ae7d928ecf76414d9b8f75046d7f4f1d"
       ],
       "layout": "IPY_MODEL_ee9d478a082a407f804b2c8eab84251b"
      }
     },
     "e148bec935c04c33b961443aa321a286": {
      "model_module": "@jupyter-widgets/controls",
      "model_module_version": "1.5.0",
      "model_name": "FloatLogSliderModel",
      "state": {
       "_dom_classes": [],
       "_model_module": "@jupyter-widgets/controls",
       "_model_module_version": "1.5.0",
       "_model_name": "FloatLogSliderModel",
       "_view_count": null,
       "_view_module": "@jupyter-widgets/controls",
       "_view_module_version": "1.5.0",
       "_view_name": "FloatLogSliderView",
       "base": 10.0,
       "continuous_update": true,
       "description": "alpha",
       "description_tooltip": null,
       "disabled": false,
       "layout": "IPY_MODEL_8a2d537709a54942903413e89f60de60",
       "max": -1.0,
       "min": -2.0,
       "orientation": "horizontal",
       "readout": true,
       "readout_format": ".3g",
       "step": 0.1,
       "style": "IPY_MODEL_bffd86eb05a24cc3b498495b6b044756",
       "value": 0.01
      }
     },
     "ee9d478a082a407f804b2c8eab84251b": {
      "model_module": "@jupyter-widgets/base",
      "model_module_version": "1.2.0",
      "model_name": "LayoutModel",
      "state": {
       "_model_module": "@jupyter-widgets/base",
       "_model_module_version": "1.2.0",
       "_model_name": "LayoutModel",
       "_view_count": null,
       "_view_module": "@jupyter-widgets/base",
       "_view_module_version": "1.2.0",
       "_view_name": "LayoutView",
       "align_content": null,
       "align_items": null,
       "align_self": null,
       "border": null,
       "bottom": null,
       "display": null,
       "flex": null,
       "flex_flow": null,
       "grid_area": null,
       "grid_auto_columns": null,
       "grid_auto_flow": null,
       "grid_auto_rows": null,
       "grid_column": null,
       "grid_gap": null,
       "grid_row": null,
       "grid_template_areas": null,
       "grid_template_columns": null,
       "grid_template_rows": null,
       "height": null,
       "justify_content": null,
       "justify_items": null,
       "left": null,
       "margin": null,
       "max_height": null,
       "max_width": null,
       "min_height": null,
       "min_width": null,
       "object_fit": null,
       "object_position": null,
       "order": null,
       "overflow": null,
       "overflow_x": null,
       "overflow_y": null,
       "padding": null,
       "right": null,
       "top": null,
       "visibility": null,
       "width": null
      }
     },
     "ef01731177174859be083a5a6e341db3": {
      "model_module": "@jupyter-widgets/controls",
      "model_module_version": "1.5.0",
      "model_name": "IntSliderModel",
      "state": {
       "_dom_classes": [],
       "_model_module": "@jupyter-widgets/controls",
       "_model_module_version": "1.5.0",
       "_model_name": "IntSliderModel",
       "_view_count": null,
       "_view_module": "@jupyter-widgets/controls",
       "_view_module_version": "1.5.0",
       "_view_name": "IntSliderView",
       "continuous_update": true,
       "description": "rate",
       "description_tooltip": null,
       "disabled": false,
       "layout": "IPY_MODEL_2088ad4c9e564cd19f438bd2e6b952e2",
       "max": 20,
       "min": 5,
       "orientation": "horizontal",
       "readout": true,
       "readout_format": "d",
       "step": 1,
       "style": "IPY_MODEL_2414e9234b0749cb9fca10395ee8543a",
       "value": 10
      }
     },
     "efc884579e24412ea6d69f1d932c210c": {
      "model_module": "@jupyter-widgets/controls",
      "model_module_version": "1.5.0",
      "model_name": "SliderStyleModel",
      "state": {
       "_model_module": "@jupyter-widgets/controls",
       "_model_module_version": "1.5.0",
       "_model_name": "SliderStyleModel",
       "_view_count": null,
       "_view_module": "@jupyter-widgets/base",
       "_view_module_version": "1.2.0",
       "_view_name": "StyleView",
       "description_width": "",
       "handle_color": null
      }
     },
     "f09269ab888e48ecbae972f40325f87d": {
      "model_module": "@jupyter-widgets/base",
      "model_module_version": "1.2.0",
      "model_name": "LayoutModel",
      "state": {
       "_model_module": "@jupyter-widgets/base",
       "_model_module_version": "1.2.0",
       "_model_name": "LayoutModel",
       "_view_count": null,
       "_view_module": "@jupyter-widgets/base",
       "_view_module_version": "1.2.0",
       "_view_name": "LayoutView",
       "align_content": null,
       "align_items": null,
       "align_self": null,
       "border": null,
       "bottom": null,
       "display": null,
       "flex": null,
       "flex_flow": null,
       "grid_area": null,
       "grid_auto_columns": null,
       "grid_auto_flow": null,
       "grid_auto_rows": null,
       "grid_column": null,
       "grid_gap": null,
       "grid_row": null,
       "grid_template_areas": null,
       "grid_template_columns": null,
       "grid_template_rows": null,
       "height": null,
       "justify_content": null,
       "justify_items": null,
       "left": null,
       "margin": null,
       "max_height": null,
       "max_width": null,
       "min_height": null,
       "min_width": null,
       "object_fit": null,
       "object_position": null,
       "order": null,
       "overflow": null,
       "overflow_x": null,
       "overflow_y": null,
       "padding": null,
       "right": null,
       "top": null,
       "visibility": null,
       "width": null
      }
     },
     "f54bdc252f8d45369ec655763cb8139a": {
      "model_module": "@jupyter-widgets/controls",
      "model_module_version": "1.5.0",
      "model_name": "FloatLogSliderModel",
      "state": {
       "_dom_classes": [],
       "_model_module": "@jupyter-widgets/controls",
       "_model_module_version": "1.5.0",
       "_model_name": "FloatLogSliderModel",
       "_view_count": null,
       "_view_module": "@jupyter-widgets/controls",
       "_view_module_version": "1.5.0",
       "_view_name": "FloatLogSliderView",
       "base": 10.0,
       "continuous_update": true,
       "description": "n_steps",
       "description_tooltip": null,
       "disabled": false,
       "layout": "IPY_MODEL_f09269ab888e48ecbae972f40325f87d",
       "max": 4.0,
       "min": 2.5,
       "orientation": "horizontal",
       "readout": true,
       "readout_format": ".3g",
       "step": 0.1,
       "style": "IPY_MODEL_9ab1ea72b294448d92820138223510e4",
       "value": 1000.0
      }
     }
    },
    "version_major": 2,
    "version_minor": 0
   }
  }
 },
 "nbformat": 4,
 "nbformat_minor": 0
}
